{
  "cells": [
    {
      "cell_type": "markdown",
      "metadata": {},
      "source": [
        "---\n",
        "title: \"Data manipulation with siuba(not working with current pandas version)\"\n",
        "author: \"Tony Duan\"\n",
        "\n",
        "execute:\n",
        "  warning: false\n",
        "  error: false\n",
        "  eval: false\n",
        "   \n",
        "format:\n",
        "  html:\n",
        "    toc: true\n",
        "    toc-location: right\n",
        "    code-fold: show\n",
        "    code-tools: true\n",
        "    number-sections: true\n",
        "    code-block-bg: true\n",
        "    code-block-border-left: \"#31BAE9\"\n",
        "---\n",
        "\n",
        "![](images/siuba_small.svg){width=\"434\"}\n",
        "siuba (小巴) is a port of dplyr and other R libraries with seamless support for pandas and SQL\n",
        "\n",
        "## Comparison with different python dataframe package\n",
        "\n",
        "\n",
        "![](images/2.png){width=\"656\"}\n",
        "\n",
        "## load package"
      ],
      "id": "76613edf"
    },
    {
      "cell_type": "code",
      "metadata": {},
      "source": [
        "import pandas as pd\n",
        "import numpy as np\n",
        "import matplotlib.pylab as plt\n",
        "import seaborn as sns\n",
        "\n",
        "\n",
        "\n",
        "from siuba.siu import call\n",
        "from siuba import _, mutate, filter, group_by, summarize,show_query\n",
        "from siuba import *\n",
        "\n",
        "from siuba.data import mtcars,penguins"
      ],
      "id": "2f538865",
      "execution_count": null,
      "outputs": []
    },
    {
      "cell_type": "code",
      "metadata": {},
      "source": [
        "small_mtcars = mtcars >> select(_.cyl, _.mpg, _.hp)>> head(5)"
      ],
      "id": "361fbecb",
      "execution_count": null,
      "outputs": []
    },
    {
      "cell_type": "markdown",
      "metadata": {},
      "source": [
        "## select column\n",
        "\n",
        "### get column names"
      ],
      "id": "a6dff119"
    },
    {
      "cell_type": "code",
      "metadata": {},
      "source": [
        "list(small_mtcars)"
      ],
      "id": "3110a4a4",
      "execution_count": null,
      "outputs": []
    },
    {
      "cell_type": "markdown",
      "metadata": {},
      "source": [
        "### select columns by name"
      ],
      "id": "37e96d01"
    },
    {
      "cell_type": "code",
      "metadata": {},
      "source": [
        "small_mtcars >> select(_.cyl, _.mpg)"
      ],
      "id": "6d09dd5d",
      "execution_count": null,
      "outputs": []
    },
    {
      "cell_type": "markdown",
      "metadata": {},
      "source": [
        "### select columns by name match with 'p'"
      ],
      "id": "f3191bea"
    },
    {
      "cell_type": "code",
      "metadata": {},
      "source": [
        "small_mtcars >> select(_.contains(\"p\"))"
      ],
      "id": "6d44c0a7",
      "execution_count": null,
      "outputs": []
    },
    {
      "cell_type": "markdown",
      "metadata": {},
      "source": [
        "### select columns by index\n",
        "\n",
        "#### select first and 3rd columns"
      ],
      "id": "d9050eb1"
    },
    {
      "cell_type": "code",
      "metadata": {},
      "source": [
        "small_mtcars >> select(0,2)"
      ],
      "id": "bee48b4d",
      "execution_count": null,
      "outputs": []
    },
    {
      "cell_type": "markdown",
      "metadata": {},
      "source": [
        "#### select first to 3rd columns"
      ],
      "id": "82dde84f"
    },
    {
      "cell_type": "code",
      "metadata": {},
      "source": [
        "small_mtcars >> select(_[0:3])"
      ],
      "id": "0d8130a1",
      "execution_count": null,
      "outputs": []
    },
    {
      "cell_type": "markdown",
      "metadata": {},
      "source": [
        "## drop column"
      ],
      "id": "803bf2a6"
    },
    {
      "cell_type": "code",
      "metadata": {},
      "source": [
        "small_mtcars >> select(~_.cyl)"
      ],
      "id": "e9a45630",
      "execution_count": null,
      "outputs": []
    },
    {
      "cell_type": "markdown",
      "metadata": {},
      "source": [
        "## Renaming column"
      ],
      "id": "416e4932"
    },
    {
      "cell_type": "code",
      "metadata": {},
      "source": [
        "small_mtcars >> rename(new_name_mpg = _.mpg)"
      ],
      "id": "62364afb",
      "execution_count": null,
      "outputs": []
    },
    {
      "cell_type": "markdown",
      "metadata": {},
      "source": [
        "## Create column\n",
        "\n",
        "### Mutate"
      ],
      "id": "9643a8e6"
    },
    {
      "cell_type": "code",
      "metadata": {},
      "source": [
        "mtcars.head()>> mutate(gear2 = _.gear+1\n",
        "                      ,gear3=if_else(_.gear > 3, \"long\", \"short\")\n",
        "                       ,qsec2=case_when({\n",
        "                                          _.qsec <= 17: \"short\",\n",
        "                                          _.qsec <= 18: \"Medium\",\n",
        "                                          True: \"long\"\n",
        "                                                     })\n",
        "                       )"
      ],
      "id": "598cdaf0",
      "execution_count": null,
      "outputs": []
    },
    {
      "cell_type": "markdown",
      "metadata": {},
      "source": [
        "### Transmute,create column and only keep this column"
      ],
      "id": "9593aec5"
    },
    {
      "cell_type": "code",
      "metadata": {},
      "source": [
        "mtcars.head()>> transmute(gear2 = _.gear+1)"
      ],
      "id": "7dde5bf3",
      "execution_count": null,
      "outputs": []
    },
    {
      "cell_type": "markdown",
      "metadata": {},
      "source": [
        "## Filter rows"
      ],
      "id": "11903edb"
    },
    {
      "cell_type": "code",
      "metadata": {},
      "source": [
        "mtcars>> filter(_.gear ==4)"
      ],
      "id": "443e57da",
      "execution_count": null,
      "outputs": []
    },
    {
      "cell_type": "markdown",
      "metadata": {},
      "source": [
        "### Filters with AND conditions"
      ],
      "id": "6df68f52"
    },
    {
      "cell_type": "code",
      "metadata": {},
      "source": [
        "mtcars >> filter((_.cyl >4) & (_.gear == 5))"
      ],
      "id": "bab82455",
      "execution_count": null,
      "outputs": []
    },
    {
      "cell_type": "markdown",
      "metadata": {},
      "source": [
        "### Filters with OR conditions\n"
      ],
      "id": "3e66e263"
    },
    {
      "cell_type": "code",
      "metadata": {},
      "source": [
        "mtcars >> filter((_.cyl == 6) | (_.gear == 5))"
      ],
      "id": "61284e2e",
      "execution_count": null,
      "outputs": []
    },
    {
      "cell_type": "markdown",
      "metadata": {},
      "source": [
        "### filter row with index\n",
        "\n",
        "#### first 3"
      ],
      "id": "83724e3c"
    },
    {
      "cell_type": "code",
      "metadata": {},
      "source": [
        "small_mtcars>>head(3)"
      ],
      "id": "72483e3e",
      "execution_count": null,
      "outputs": []
    },
    {
      "cell_type": "markdown",
      "metadata": {},
      "source": [
        "#### last 3"
      ],
      "id": "6334f91d"
    },
    {
      "cell_type": "code",
      "metadata": {},
      "source": [
        "# not in siuba, in pandas\n",
        "small_mtcars.tail(3)"
      ],
      "id": "7013a000",
      "execution_count": null,
      "outputs": []
    },
    {
      "cell_type": "markdown",
      "metadata": {},
      "source": [
        "#### 5th rows"
      ],
      "id": "c115c34c"
    },
    {
      "cell_type": "code",
      "metadata": {},
      "source": [
        "# not in siuba, in pandas\n",
        "mtcars.iloc[[4]]"
      ],
      "id": "298064c1",
      "execution_count": null,
      "outputs": []
    },
    {
      "cell_type": "markdown",
      "metadata": {},
      "source": [
        "#### 1 and 5th rows"
      ],
      "id": "c70f20fd"
    },
    {
      "cell_type": "code",
      "metadata": {},
      "source": [
        "# not in siuba, in pandas\n",
        "mtcars.iloc[[0,4]]"
      ],
      "id": "846e8ce7",
      "execution_count": null,
      "outputs": []
    },
    {
      "cell_type": "markdown",
      "metadata": {},
      "source": [
        "#### 1 to 5th rows"
      ],
      "id": "8df1de2b"
    },
    {
      "cell_type": "code",
      "metadata": {},
      "source": [
        "# not in siuba, in pandas\n",
        "mtcars.iloc[0:4]"
      ],
      "id": "e6b34412",
      "execution_count": null,
      "outputs": []
    },
    {
      "cell_type": "markdown",
      "metadata": {},
      "source": [
        "#### get ramdon 5 rows"
      ],
      "id": "7b536f9c"
    },
    {
      "cell_type": "code",
      "metadata": {},
      "source": [
        "mtcars.sample(5, random_state=42)"
      ],
      "id": "410c5fac",
      "execution_count": null,
      "outputs": []
    },
    {
      "cell_type": "markdown",
      "metadata": {},
      "source": [
        "## Append\n",
        "\n",
        "\n",
        "### append by row"
      ],
      "id": "64765f3c"
    },
    {
      "cell_type": "code",
      "metadata": {},
      "source": [
        "# not available in siuba yet\n",
        "#from siuba import bind_rows"
      ],
      "id": "bb32c610",
      "execution_count": null,
      "outputs": []
    },
    {
      "cell_type": "code",
      "metadata": {},
      "source": [
        "# using pandas\n",
        "\n",
        "# get 1 to 4 rows\n",
        "data1=mtcars.iloc[0:4]\n",
        "\n",
        "# get 9 rows\n",
        "data2=mtcars.iloc[10:11]\n",
        "\n",
        "data3=pd.concat([data1, data2], ignore_index = True,axis=0)\n",
        "\n",
        "data3"
      ],
      "id": "b43298da",
      "execution_count": null,
      "outputs": []
    },
    {
      "cell_type": "markdown",
      "metadata": {},
      "source": [
        "### append by column"
      ],
      "id": "207b1203"
    },
    {
      "cell_type": "code",
      "metadata": {},
      "source": [
        "# not available in siuba yet\n",
        "#from siuba import bind_columns"
      ],
      "id": "c4480cb1",
      "execution_count": null,
      "outputs": []
    },
    {
      "cell_type": "code",
      "metadata": {},
      "source": [
        "# using pandas\n",
        "data1=small_mtcars>>select(_.mpg)\n",
        "\n",
        "data2=small_mtcars>>select(_.cyl)\n",
        "\n",
        "data3=pd.concat([data1, data2],axis=1)\n",
        "\n",
        "data3"
      ],
      "id": "693275b1",
      "execution_count": null,
      "outputs": []
    },
    {
      "cell_type": "markdown",
      "metadata": {},
      "source": [
        "### Dropping NA values\n",
        "\n",
        "\n",
        "### keep NA values\n",
        "\n",
        "\n",
        "\n",
        "## group by\n",
        "\n",
        "### average,min,max,sum"
      ],
      "id": "8f8901cc"
    },
    {
      "cell_type": "code",
      "metadata": {},
      "source": [
        "tbl_query = (mtcars\n",
        "  >> group_by(_.cyl)\n",
        "  >> summarize(avg_hp = _.hp.mean()\n",
        "              ,min_hp=_.hp.min()\n",
        "              ,max_hp=_.hp.max()\n",
        "              ,totol_disp=_.disp.sum()\n",
        "  )\n",
        "  )\n",
        "\n",
        "tbl_query"
      ],
      "id": "ba73378a",
      "execution_count": null,
      "outputs": []
    },
    {
      "cell_type": "markdown",
      "metadata": {},
      "source": [
        "### count record and count distinct record"
      ],
      "id": "b4c8e615"
    },
    {
      "cell_type": "code",
      "metadata": {},
      "source": [
        "mtcars >> group_by(_.cyl)  >> summarize(n = _.shape[0])"
      ],
      "id": "3577880a",
      "execution_count": null,
      "outputs": []
    },
    {
      "cell_type": "code",
      "metadata": {},
      "source": [
        "mtcars >> group_by(_.cyl)  >> summarize(n = _.hp.nunique())"
      ],
      "id": "b1d850cb",
      "execution_count": null,
      "outputs": []
    },
    {
      "cell_type": "markdown",
      "metadata": {},
      "source": [
        "## order rows"
      ],
      "id": "07faa84d"
    },
    {
      "cell_type": "code",
      "metadata": {},
      "source": [
        "small_mtcars >> arrange(_.hp)"
      ],
      "id": "c7641aae",
      "execution_count": null,
      "outputs": []
    },
    {
      "cell_type": "markdown",
      "metadata": {},
      "source": [
        "### Sort in descending order"
      ],
      "id": "30f0be0f"
    },
    {
      "cell_type": "code",
      "metadata": {},
      "source": [
        "small_mtcars >> arrange(-_.hp)"
      ],
      "id": "3e164277",
      "execution_count": null,
      "outputs": []
    },
    {
      "cell_type": "markdown",
      "metadata": {},
      "source": [
        "### Arrange by multiple variables"
      ],
      "id": "edab5798"
    },
    {
      "cell_type": "code",
      "metadata": {},
      "source": [
        "small_mtcars >> arrange(_.cyl, -_.mpg)"
      ],
      "id": "65cf764f",
      "execution_count": null,
      "outputs": []
    },
    {
      "cell_type": "markdown",
      "metadata": {},
      "source": [
        "## join"
      ],
      "id": "d529023e"
    },
    {
      "cell_type": "code",
      "metadata": {},
      "source": [
        "lhs = pd.DataFrame({'id': [1,2,3], 'val': ['lhs.1', 'lhs.2', 'lhs.3']})\n",
        "rhs = pd.DataFrame({'id': [1,2,4], 'val': ['rhs.1', 'rhs.2', 'rhs.3']})"
      ],
      "id": "40d72be4",
      "execution_count": null,
      "outputs": []
    },
    {
      "cell_type": "code",
      "metadata": {},
      "source": [
        "lhs"
      ],
      "id": "a46430e8",
      "execution_count": null,
      "outputs": []
    },
    {
      "cell_type": "code",
      "metadata": {},
      "source": [
        "rhs"
      ],
      "id": "fd4af314",
      "execution_count": null,
      "outputs": []
    },
    {
      "cell_type": "markdown",
      "metadata": {},
      "source": [
        "### inner_join"
      ],
      "id": "df7e21f3"
    },
    {
      "cell_type": "code",
      "metadata": {},
      "source": [
        "result=lhs >> inner_join(_, rhs, on=\"id\")\n",
        "result"
      ],
      "id": "e49b44bd",
      "execution_count": null,
      "outputs": []
    },
    {
      "cell_type": "markdown",
      "metadata": {},
      "source": [
        "### full join"
      ],
      "id": "2a73da54"
    },
    {
      "cell_type": "code",
      "metadata": {},
      "source": [
        "result=rhs >> full_join(_, lhs, on=\"id\")\n",
        "result"
      ],
      "id": "4df570ad",
      "execution_count": null,
      "outputs": []
    },
    {
      "cell_type": "markdown",
      "metadata": {},
      "source": [
        "### left join "
      ],
      "id": "bad63298"
    },
    {
      "cell_type": "code",
      "metadata": {},
      "source": [
        "result=lhs >> left_join(_, rhs, on=\"id\")\n",
        "result"
      ],
      "id": "37be013d",
      "execution_count": null,
      "outputs": []
    },
    {
      "cell_type": "markdown",
      "metadata": {},
      "source": [
        "### anti join\n",
        "\n",
        "keep data in left which not in right"
      ],
      "id": "c56f672b"
    },
    {
      "cell_type": "code",
      "metadata": {},
      "source": [
        "result=lhs >> anti_join(_, rhs, on=\"id\")\n",
        "result"
      ],
      "id": "00f24e7b",
      "execution_count": null,
      "outputs": []
    },
    {
      "cell_type": "markdown",
      "metadata": {},
      "source": [
        "keep data in right which not in left"
      ],
      "id": "04b26d1c"
    },
    {
      "cell_type": "code",
      "metadata": {},
      "source": [
        "result=rhs >> anti_join(_, lhs, on=\"id\")\n",
        "result"
      ],
      "id": "6614de1d",
      "execution_count": null,
      "outputs": []
    },
    {
      "cell_type": "markdown",
      "metadata": {},
      "source": [
        "## Reshape tables\n"
      ],
      "id": "703ffe39"
    },
    {
      "cell_type": "code",
      "metadata": {},
      "source": [
        "costs = pd.DataFrame({\n",
        "    'id': [1,2],\n",
        "    'price_x': [.1, .2],\n",
        "    'price_y': [.4, .5],\n",
        "    'price_z': [.7, .8]\n",
        "})\n",
        "\n",
        "costs"
      ],
      "id": "e6d529f9",
      "execution_count": null,
      "outputs": []
    },
    {
      "cell_type": "markdown",
      "metadata": {},
      "source": [
        "### Gather data long(wide to long)\n",
        "\n",
        "Below 3 method will give same result"
      ],
      "id": "02b85d3b"
    },
    {
      "cell_type": "code",
      "metadata": {},
      "source": [
        "# selecting each variable manually\n",
        "costs >> gather('measure', 'value', _.price_x, _.price_y, _.price_z)"
      ],
      "id": "55b4d9c8",
      "execution_count": null,
      "outputs": []
    },
    {
      "cell_type": "markdown",
      "metadata": {},
      "source": [
        "other way:"
      ],
      "id": "4b56861a"
    },
    {
      "cell_type": "code",
      "metadata": {},
      "source": [
        "# selecting variables using a slice\n",
        "costs >> gather('measure', 'value', _[\"price_x\":\"price_z\"])"
      ],
      "id": "dbcd6c14",
      "execution_count": null,
      "outputs": []
    },
    {
      "cell_type": "markdown",
      "metadata": {},
      "source": [
        "other way:"
      ],
      "id": "d60f68f6"
    },
    {
      "cell_type": "code",
      "metadata": {},
      "source": [
        "# selecting by excluding id\n",
        "costs >> gather('measure', 'value', -_.id)"
      ],
      "id": "9a4b8d7a",
      "execution_count": null,
      "outputs": []
    },
    {
      "cell_type": "markdown",
      "metadata": {},
      "source": [
        "### Spread data wide(long to wide)\n"
      ],
      "id": "d3907793"
    },
    {
      "cell_type": "code",
      "metadata": {},
      "source": [
        "costs_long= costs>> gather('measure', 'value', -_.id)\n",
        "costs_long"
      ],
      "id": "b1e9ecfb",
      "execution_count": null,
      "outputs": []
    },
    {
      "cell_type": "code",
      "metadata": {},
      "source": [
        "costs_long>> spread('measure', 'value')"
      ],
      "id": "23509daa",
      "execution_count": null,
      "outputs": []
    },
    {
      "cell_type": "markdown",
      "metadata": {},
      "source": [
        "## string"
      ],
      "id": "9c784266"
    },
    {
      "cell_type": "code",
      "metadata": {},
      "source": [
        "df = pd.DataFrame({'text': ['abc', 'DDD','1243c','aeEe'], 'num': [3, 4,7,8]})\n",
        "\n",
        "df"
      ],
      "id": "ec32d3eb",
      "execution_count": null,
      "outputs": []
    },
    {
      "cell_type": "markdown",
      "metadata": {},
      "source": [
        "### upper case"
      ],
      "id": "a09ac26a"
    },
    {
      "cell_type": "code",
      "metadata": {},
      "source": [
        "df>> mutate(text_new=_.text.str.upper())"
      ],
      "id": "11c34d46",
      "execution_count": null,
      "outputs": []
    },
    {
      "cell_type": "markdown",
      "metadata": {},
      "source": [
        "### lower case"
      ],
      "id": "152ec94e"
    },
    {
      "cell_type": "code",
      "metadata": {},
      "source": [
        "df>> mutate(text_new=_.text.str.lower())"
      ],
      "id": "7528b023",
      "execution_count": null,
      "outputs": []
    },
    {
      "cell_type": "markdown",
      "metadata": {},
      "source": [
        "### match"
      ],
      "id": "1c985011"
    },
    {
      "cell_type": "code",
      "metadata": {},
      "source": [
        "df>> mutate(text_new1=if_else(_.text== \"abc\",'T','F')\n",
        "            ,text_new2=if_else(_.text.str.startswith(\"a\"),'T','F')\n",
        "            ,text_new3=if_else(_.text.str.endswith(\"c\"),'T','F')\n",
        "            ,text_new4=if_else(_.text.str.contains(\"4\"),'T','F')\n",
        "\n",
        ")"
      ],
      "id": "8c98c7a9",
      "execution_count": null,
      "outputs": []
    },
    {
      "cell_type": "markdown",
      "metadata": {},
      "source": [
        "###  concatenation"
      ],
      "id": "076490e8"
    },
    {
      "cell_type": "code",
      "metadata": {},
      "source": [
        "df>> mutate(text_new1=_.text+' is '+_.text\n",
        ")"
      ],
      "id": "01507ad4",
      "execution_count": null,
      "outputs": []
    },
    {
      "cell_type": "markdown",
      "metadata": {},
      "source": [
        "### replace\n",
        "\n",
        "Use .str.replace(..., regex=True) with regular expressions to replace patterns in strings.\n",
        "\n",
        "For example, the code below uses \"p.\", where . is called a wildcard–which matches any character."
      ],
      "id": "151fcd15"
    },
    {
      "cell_type": "code",
      "metadata": {},
      "source": [
        "df>> mutate(text_new1=_.text.str.replace(\"a.\", \"XX\", regex=True)\n",
        ")"
      ],
      "id": "3ddb8c96",
      "execution_count": null,
      "outputs": []
    },
    {
      "cell_type": "markdown",
      "metadata": {},
      "source": [
        "### extract\n",
        "\n",
        "Use str.extract() with a regular expression to pull out a matching piece of text.\n",
        "\n",
        "For example the regular expression “^(.*) ” contains the following pieces:\n",
        "\n",
        "-  a matches the literal letter “a”\n",
        "\n",
        "- .* has a . which matches anything, and * which modifies it to apply 0 or more times."
      ],
      "id": "f981d09a"
    },
    {
      "cell_type": "code",
      "metadata": {},
      "source": [
        "df>> mutate(text_new1=_.text.str.extract(\"a(.*)\")\n",
        "            ,text_new2=_.text.str.extract(\"(.*)c\")\n",
        ")"
      ],
      "id": "c168c0ef",
      "execution_count": null,
      "outputs": []
    },
    {
      "cell_type": "markdown",
      "metadata": {},
      "source": [
        "## date"
      ],
      "id": "3a25e404"
    },
    {
      "cell_type": "code",
      "metadata": {},
      "source": [
        "df_dates = pd.DataFrame({\n",
        "    \"dates\": pd.to_datetime([\"2021-01-02\", \"2021-02-03\"]),\n",
        "    \"raw\": [\"2023-04-05 06:07:08\", \"2024-05-06 07:08:09\"],\n",
        "})\n",
        "df_dates"
      ],
      "id": "f57ad5b5",
      "execution_count": null,
      "outputs": []
    },
    {
      "cell_type": "code",
      "metadata": {},
      "source": [
        "from datetime import datetime\n",
        "\n",
        "df_date=df_dates>>mutate(month=_.dates.dt.month_name()\n",
        "                  ,date_format_raw = call(pd.to_datetime, _.raw)\n",
        "                  ,date_format_raw_year=_.date_format_raw.dt.year\n",
        "\n",
        ")\n",
        "\n",
        "df_date"
      ],
      "id": "cb37682b",
      "execution_count": null,
      "outputs": []
    },
    {
      "cell_type": "code",
      "metadata": {},
      "source": [
        "df_date.info()"
      ],
      "id": "8268a75c",
      "execution_count": null,
      "outputs": []
    },
    {
      "cell_type": "markdown",
      "metadata": {},
      "source": [
        "## using siuba with database\n",
        "\n",
        "### set up a sqlite database, with an mtcars table."
      ],
      "id": "5899a658"
    },
    {
      "cell_type": "code",
      "metadata": {},
      "source": [
        "from sqlalchemy import create_engine\n",
        "from siuba.sql import LazyTbl\n",
        "from siuba import _, group_by, summarize, show_query, collect \n",
        "from siuba.data import mtcars\n",
        "\n",
        "# copy in to sqlite, using the pandas .to_sql() method\n",
        "engine = create_engine(\"sqlite:///:memory:\")\n",
        "mtcars.to_sql(\"mtcars\", engine, if_exists = \"replace\")"
      ],
      "id": "4fd601d8",
      "execution_count": null,
      "outputs": []
    },
    {
      "cell_type": "markdown",
      "metadata": {},
      "source": [
        "### create table"
      ],
      "id": "f06fecad"
    },
    {
      "cell_type": "code",
      "metadata": {},
      "source": [
        "# Create a lazy SQL DataFrame\n",
        "tbl_mtcars = LazyTbl(engine, \"mtcars\")\n",
        "tbl_mtcars"
      ],
      "id": "9d8411ee",
      "execution_count": null,
      "outputs": []
    },
    {
      "cell_type": "markdown",
      "metadata": {},
      "source": [
        "### create query"
      ],
      "id": "a8a51ea6"
    },
    {
      "cell_type": "code",
      "metadata": {},
      "source": [
        "# connect with siuba\n",
        "\n",
        "tbl_query = (tbl_mtcars\n",
        "  >> group_by(_.mpg)\n",
        "  >> summarize(avg_hp = _.hp.mean())\n",
        "  )\n",
        "\n",
        "tbl_query"
      ],
      "id": "05f21221",
      "execution_count": null,
      "outputs": []
    },
    {
      "cell_type": "markdown",
      "metadata": {},
      "source": [
        "### show query"
      ],
      "id": "28a26d61"
    },
    {
      "cell_type": "code",
      "metadata": {},
      "source": [
        " tbl_query >> show_query()"
      ],
      "id": "e82ad080",
      "execution_count": null,
      "outputs": []
    },
    {
      "cell_type": "markdown",
      "metadata": {},
      "source": [
        "### Collect to DataFrame\n",
        "\n",
        "because lazy expressions,the collect function is actually running the sql."
      ],
      "id": "3f34a669"
    },
    {
      "cell_type": "code",
      "metadata": {},
      "source": [
        "data=tbl_query >> collect()\n",
        "print(data)"
      ],
      "id": "7ebc9e6f",
      "execution_count": null,
      "outputs": []
    },
    {
      "cell_type": "markdown",
      "metadata": {},
      "source": [
        "## reference:\n",
        "\n",
        "https://siuba.org/"
      ],
      "id": "45c6e931"
    }
  ],
  "metadata": {
    "kernelspec": {
      "name": "python3",
      "language": "python",
      "display_name": "Python 3 (ipykernel)",
      "path": "/Library/Frameworks/Python.framework/Versions/3.13/share/jupyter/kernels/python3"
    }
  },
  "nbformat": 4,
  "nbformat_minor": 5
}